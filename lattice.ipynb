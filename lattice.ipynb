{
 "cells": [
  {
   "cell_type": "markdown",
   "metadata": {},
   "source": [
    "## Tâche 5: Etude du matériaux"
   ]
  },
  {
   "cell_type": "code",
   "execution_count": 64,
   "metadata": {},
   "outputs": [],
   "source": [
    "#telechargement du fichier CIF du matériau attribué\n",
    "from pymatgen.ext.matproj import MPRester\n",
    "from pymatgen.io.cif import CifWriter #to write a Structure to various output formats"
   ]
  },
  {
   "cell_type": "code",
   "execution_count": 65,
   "metadata": {},
   "outputs": [],
   "source": [
    "with MPRester(\"G0BptrHMmTXo23sw\") as m:\n",
    "\n",
    "    # To obtain information on a material (structure) with Materials Project Id\n",
    "    structure = m.get_structure_by_material_id(\"mp-554310\")"
   ]
  },
  {
   "cell_type": "markdown",
   "metadata": {},
   "source": [
    "Il s'agit maintenant de déterminer les vecteurs de bases de ses réseaux direct et\n",
    "réciproque, son type de maille, son système cristallin, ainsi que son\n",
    "groupe ponctuel."
   ]
  },
  {
   "cell_type": "code",
   "execution_count": 66,
   "metadata": {},
   "outputs": [],
   "source": [
    "from pymatgen.symmetry.analyzer import SpacegroupAnalyzer\n",
    "from pymatgen.symmetry.analyzer import PointGroupAnalyzer\n"
   ]
  },
  {
   "cell_type": "code",
   "execution_count": 67,
   "metadata": {},
   "outputs": [],
   "source": [
    "Analyser=SpacegroupAnalyzer(structure)"
   ]
  },
  {
   "cell_type": "code",
   "execution_count": 68,
   "metadata": {},
   "outputs": [],
   "source": [
    "#vecteurs de base du reseau direct"
   ]
  },
  {
   "cell_type": "code",
   "execution_count": 94,
   "metadata": {},
   "outputs": [
    {
     "name": "stdout",
     "output_type": "stream",
     "text": [
      "le vecteur a est [4.00673973e+00 2.02119000e-03 6.66096002e+00]\n",
      "le vecteur b est [1.85053709 3.55379802 6.66096002]\n",
      "le vecteur c est [3.3293700e-03 2.0211800e-03 7.7731806e+00]\n"
     ]
    }
   ],
   "source": [
    "direct=structure.lattice.matrix\n",
    "print(\"le vecteur a est\", direct[0])\n",
    "print(\"le vecteur b est\", direct[1])\n",
    "print(\"le vecteur c est\", direct[2])"
   ]
  },
  {
   "cell_type": "code",
   "execution_count": 70,
   "metadata": {},
   "outputs": [],
   "source": [
    "#vecteurs de base du reseau réciproque la fonction que j'utilise norme les vecteurs"
   ]
  },
  {
   "cell_type": "code",
   "execution_count": 100,
   "metadata": {},
   "outputs": [
    {
     "name": "stdout",
     "output_type": "stream",
     "text": [
      "le vecteur a* est [ 2.49766699e-01 -1.29921559e-01 -7.31966651e-05]\n",
      "le vecteur b* est [-2.03360069e-05  2.81536876e-01 -7.31964205e-05]\n",
      "le vecteur c* est [-0.21401156 -0.12992154  0.12877291]\n"
     ]
    }
   ],
   "source": [
    "reciproque=structure.lattice.reciprocal_lattice_crystallographic.matrix\n",
    "print(\"le vecteur a* est\", reciproque[0])\n",
    "print(\"le vecteur b* est\", reciproque[1])\n",
    "print(\"le vecteur c* est\", reciproque[2])"
   ]
  },
  {
   "cell_type": "code",
   "execution_count": 95,
   "metadata": {
    "scrolled": true
   },
   "outputs": [
    {
     "name": "stdout",
     "output_type": "stream",
     "text": [
      "le matériau que nous analysons a un système cristalin trigonal\n"
     ]
    }
   ],
   "source": [
    "#systeme cristallin\n",
    "SystCrist=Analyser.get_crystal_system()\n",
    "print(\"le matériau que nous analysons a un système cristalin\",SystCrist)"
   ]
  },
  {
   "cell_type": "code",
   "execution_count": 72,
   "metadata": {},
   "outputs": [],
   "source": [
    "#type de maille"
   ]
  },
  {
   "cell_type": "code",
   "execution_count": 96,
   "metadata": {},
   "outputs": [
    {
     "name": "stdout",
     "output_type": "stream",
     "text": [
      "le matériau que nous analysons a un type de maille rhombohedral\n"
     ]
    }
   ],
   "source": [
    "maille=Analyser.get_lattice_type()\n",
    "print(\"le matériau que nous analysons a un type de maille\", maille)"
   ]
  },
  {
   "cell_type": "code",
   "execution_count": 74,
   "metadata": {},
   "outputs": [],
   "source": [
    "#groupe ponctuel"
   ]
  },
  {
   "cell_type": "code",
   "execution_count": 97,
   "metadata": {},
   "outputs": [
    {
     "name": "stdout",
     "output_type": "stream",
     "text": [
      "son groupe ponctuel est -3m\n"
     ]
    }
   ],
   "source": [
    "point=Analyser.get_point_group_symbol()\n",
    "print(\"son groupe ponctuel est\", point)"
   ]
  }
 ],
 "metadata": {
  "kernelspec": {
   "display_name": "Python 3",
   "language": "python",
   "name": "python3"
  },
  "language_info": {
   "codemirror_mode": {
    "name": "ipython",
    "version": 3
   },
   "file_extension": ".py",
   "mimetype": "text/x-python",
   "name": "python",
   "nbconvert_exporter": "python",
   "pygments_lexer": "ipython3",
   "version": "3.6.8"
  }
 },
 "nbformat": 4,
 "nbformat_minor": 2
}
