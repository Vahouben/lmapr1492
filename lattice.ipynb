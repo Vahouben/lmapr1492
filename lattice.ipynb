{
 "cells": [
  {
   "cell_type": "markdown",
   "metadata": {},
   "source": [
    "## Tâche 5: Etude du matériaux"
   ]
  },
  {
   "cell_type": "code",
   "execution_count": 64,
   "metadata": {},
   "outputs": [],
   "source": [
    "#telechargement du fichier CIF du matériau attribué\n",
    "from pymatgen.ext.matproj import MPRester\n",
    "from pymatgen.io.cif import CifWriter #to write a Structure to various output formats"
   ]
  },
  {
   "cell_type": "code",
   "execution_count": 65,
   "metadata": {},
   "outputs": [],
   "source": [
    "with MPRester(\"G0BptrHMmTXo23sw\") as m:\n",
    "\n",
    "    # To obtain information on a material (structure) with Materials Project Id\n",
    "    structure = m.get_structure_by_material_id(\"mp-554310\")"
   ]
  },
  {
   "cell_type": "markdown",
   "metadata": {},
   "source": [
    "Il s'agit maintenant de déterminer les vecteurs de bases de ses réseaux direct et\n",
    "réciproque, son type de maille, son système cristallin, ainsi que son\n",
    "groupe ponctuel."
   ]
  },
  {
   "cell_type": "code",
   "execution_count": 66,
   "metadata": {},
   "outputs": [],
   "source": [
    "from pymatgen.symmetry.analyzer import SpacegroupAnalyzer\n",
    "from pymatgen.symmetry.analyzer import PointGroupAnalyzer\n"
   ]
  },
  {
   "cell_type": "code",
   "execution_count": 67,
   "metadata": {},
   "outputs": [],
   "source": [
    "Analyser=SpacegroupAnalyzer(structure)"
   ]
  },
  {
   "cell_type": "code",
   "execution_count": 68,
   "metadata": {},
   "outputs": [],
   "source": [
    "#vecteurs de base du reseau direct, les unités sont en Angstroms"
   ]
  },
  {
   "cell_type": "code",
   "execution_count": 94,
   "metadata": {},
   "outputs": [
    {
     "name": "stdout",
     "output_type": "stream",
     "text": [
      "le vecteur a est [4.00673973e+00 2.02119000e-03 6.66096002e+00]\n",
      "le vecteur b est [1.85053709 3.55379802 6.66096002]\n",
      "le vecteur c est [3.3293700e-03 2.0211800e-03 7.7731806e+00]\n"
     ]
    }
   ],
   "source": [
    "direct=structure.lattice.matrix\n",
    "print(\"le vecteur a est\", direct[0])\n",
    "print(\"le vecteur b est\", direct[1])\n",
    "print(\"le vecteur c est\", direct[2])"
   ]
  },
  {
   "cell_type": "code",
   "execution_count": 70,
   "metadata": {},
   "outputs": [],
   "source": [
    "#vecteurs de base du reseau réciproque la fonction que j'utilise norme les vecteurs\n",
    "#attention c'est le réseau reciproque standard utilisé pour l'était physique solide avec un facteur 2*pi"
   ]
  },
  {
   "cell_type": "code",
   "execution_count": 101,
   "metadata": {},
   "outputs": [
    {
     "name": "stdout",
     "output_type": "stream",
     "text": [
      "le vecteur a* est [ 1.56933045e+00 -8.16321233e-01 -4.59908211e-04]\n",
      "le vecteur b* est [-1.27774900e-04  1.76894836e+00 -4.59906674e-04]\n",
      "le vecteur c* est [-1.34467432 -0.81632108  0.80910408]\n"
     ]
    }
   ],
   "source": [
    "reciproque=structure.lattice.reciprocal_lattice.matrix\n",
    "print(\"le vecteur a* est\", reciproque[0])\n",
    "print(\"le vecteur b* est\", reciproque[1])\n",
    "print(\"le vecteur c* est\", reciproque[2])"
   ]
  },
  {
   "cell_type": "code",
   "execution_count": 95,
   "metadata": {
    "scrolled": true
   },
   "outputs": [
    {
     "name": "stdout",
     "output_type": "stream",
     "text": [
      "le matériau que nous analysons a un système cristalin trigonal\n"
     ]
    }
   ],
   "source": [
    "#systeme cristallin\n",
    "SystCrist=Analyser.get_crystal_system()\n",
    "print(\"le matériau que nous analysons a un système cristalin\",SystCrist)"
   ]
  },
  {
   "cell_type": "code",
   "execution_count": 72,
   "metadata": {},
   "outputs": [],
   "source": [
    "#type de maille"
   ]
  },
  {
   "cell_type": "code",
   "execution_count": 96,
   "metadata": {},
   "outputs": [
    {
     "name": "stdout",
     "output_type": "stream",
     "text": [
      "le matériau que nous analysons a un type de maille rhombohedral\n"
     ]
    }
   ],
   "source": [
    "maille=Analyser.get_lattice_type()\n",
    "print(\"le matériau que nous analysons a un type de maille\", maille)"
   ]
  },
  {
   "cell_type": "code",
   "execution_count": 74,
   "metadata": {},
   "outputs": [],
   "source": [
    "#groupe ponctuel"
   ]
  },
  {
   "cell_type": "code",
   "execution_count": 97,
   "metadata": {},
   "outputs": [
    {
     "name": "stdout",
     "output_type": "stream",
     "text": [
      "son groupe ponctuel est -3m\n"
     ]
    }
   ],
   "source": [
    "point=Analyser.get_point_group_symbol()\n",
    "print(\"son groupe ponctuel est\", point)"
   ]
  },
  {
   "cell_type": "markdown",
   "metadata": {},
   "source": [
    "Pour vérifier/se convaincre que nous avons bien affaire à un systeme cristallin trigonal, voici la valeur des angles et des longeurs des vecteurs de base (il faut utiliser la note du prof reçue par mail qui permet de corriger les erreur de précision du Matérials Project):"
   ]
  },
  {
   "cell_type": "code",
   "execution_count": 107,
   "metadata": {},
   "outputs": [],
   "source": [
    "s=SpacegroupAnalyzer(structure).get_primitive_standard_structure()"
   ]
  },
  {
   "cell_type": "code",
   "execution_count": null,
   "metadata": {},
   "outputs": [],
   "source": [
    "#longeurs"
   ]
  },
  {
   "cell_type": "code",
   "execution_count": 114,
   "metadata": {},
   "outputs": [
    {
     "name": "stdout",
     "output_type": "stream",
     "text": [
      "7.773181755453645 (a)\n",
      "7.773181755453645 (b)\n",
      "7.773181755453645 (c)\n"
     ]
    }
   ],
   "source": [
    "print(s.lattice.a,\"(a)\")\n",
    "print(s.lattice.b,\"(b)\")\n",
    "print(s.lattice.c,\"(c)\")"
   ]
  },
  {
   "cell_type": "code",
   "execution_count": null,
   "metadata": {},
   "outputs": [],
   "source": [
    "#angles en degrées"
   ]
  },
  {
   "cell_type": "code",
   "execution_count": 112,
   "metadata": {},
   "outputs": [
    {
     "name": "stdout",
     "output_type": "stream",
     "text": [
      "31.003454786455652 (alpha)\n",
      "31.003454786455652 (beta)\n",
      "31.00345478645564 (gamma)\n"
     ]
    }
   ],
   "source": [
    "print(s.lattice.alpha,\"(alpha)\")\n",
    "print(s.lattice.beta,\"(beta)\")\n",
    "print(s.lattice.gamma,\"(gamma)\")"
   ]
  },
  {
   "cell_type": "code",
   "execution_count": null,
   "metadata": {},
   "outputs": [],
   "source": []
  }
 ],
 "metadata": {
  "kernelspec": {
   "display_name": "Python 3",
   "language": "python",
   "name": "python3"
  },
  "language_info": {
   "codemirror_mode": {
    "name": "ipython",
    "version": 3
   },
   "file_extension": ".py",
   "mimetype": "text/x-python",
   "name": "python",
   "nbconvert_exporter": "python",
   "pygments_lexer": "ipython3",
   "version": "3.6.8"
  }
 },
 "nbformat": 4,
 "nbformat_minor": 2
}
