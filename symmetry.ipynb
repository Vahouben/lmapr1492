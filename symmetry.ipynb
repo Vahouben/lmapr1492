{
 "cells": [
  {
   "cell_type": "markdown",
   "metadata": {},
   "source": [
    "# Tâche 6: étude de l'effet de 3 elements de symétrie différents"
   ]
  },
  {
   "cell_type": "code",
   "execution_count": 162,
   "metadata": {},
   "outputs": [],
   "source": [
    "#telechargement du fichier CIF du matériau attribué\n",
    "from pymatgen.ext.matproj import MPRester\n",
    "from pymatgen.symmetry.analyzer import SpacegroupAnalyzer\n",
    "from pymatgen.core.operations import SymmOp\n",
    "import numpy as np"
   ]
  },
  {
   "cell_type": "code",
   "execution_count": 163,
   "metadata": {},
   "outputs": [],
   "source": [
    "with MPRester(\"G0BptrHMmTXo23sw\") as m:\n",
    "\n",
    "    # Pour obtenir des informations sur un matériau (structure) avec Materials Project Id\n",
    "    structure = m.get_structure_by_material_id(\"mp-554310\")\n",
    "Analyse=SpacegroupAnalyzer(structure)"
   ]
  },
  {
   "cell_type": "markdown",
   "metadata": {},
   "source": [
    "Pour cette partie, en plus du site [Matérials Project](https://materialsproject.org/materials/mp-554310/#), nous utilisons [jmol Crystal Symetry Analyzer](https://www.pslc.ws/jsmol/jcse/explore.htm) afin de générer les différentes photos présentes dans ce notebook."
   ]
  },
  {
   "cell_type": "code",
   "execution_count": 164,
   "metadata": {},
   "outputs": [],
   "source": [
    "#Pour avoir la maille conventionelle, comme sur le site jmol\n",
    "Anal1=SpacegroupAnalyzer(Analyse.get_conventional_standard_structure())\n",
    "#Pour avoir les posotions de tous les atomes dans la maille conventionelle. Il y a 12 atomes par maille\n",
    "sites=Analyse.get_conventional_standard_structure().sites\n",
    "#Pour avoir toutes les opération de symétrie présentes dans la maille conventionelle. Elle sont au nombre de 36\n",
    "#et ordonnées dans le même ordre que sur jmol.\n",
    "Symetry=Anal1.get_symmetry_operations()"
   ]
  },
  {
   "cell_type": "markdown",
   "metadata": {},
   "source": [
    "Il s'aggit ici d'analyser 3 élements de symétrie differents (autre que l'unité) chacun pour un atome différent. "
   ]
  },
  {
   "cell_type": "markdown",
   "metadata": {},
   "source": [
    "Une opération de symétrie constiste, dans l'espace cartésien, en une opération de rotation et une opération de translation représentées respectivement par une matrice 3x3 et un vecteur. Pour obtenir la nouvelle position d'un atome, on multiplie ses coordonnées par la matrice de rotation et on lui ajoute la matrice de translation."
   ]
  },
  {
   "cell_type": "markdown",
   "metadata": {},
   "source": [
    "## 1) Symétrie plan miroir"
   ]
  },
  {
   "cell_type": "markdown",
   "metadata": {},
   "source": [
    "Prennons l'atome de Tl positionné en (0.67,0.33,0.83) "
   ]
  },
  {
   "cell_type": "code",
   "execution_count": 165,
   "metadata": {},
   "outputs": [
    {
     "data": {
      "text/plain": [
       "PeriodicSite: Tl (2.0775, -1.1995, 18.4844) [0.6667, 0.3333, 0.8333]"
      ]
     },
     "execution_count": 165,
     "metadata": {},
     "output_type": "execute_result"
    }
   ],
   "source": [
    "sites[0]"
   ]
  },
  {
   "cell_type": "markdown",
   "metadata": {},
   "source": [
    "Et appliquons lui une symétrie miroir (-y,-x,z) qui est la 8ème symétrie sur jmol"
   ]
  },
  {
   "cell_type": "code",
   "execution_count": 166,
   "metadata": {},
   "outputs": [],
   "source": [
    "Miroir=Symetry[7]"
   ]
  },
  {
   "cell_type": "markdown",
   "metadata": {},
   "source": [
    "Qui est bien la symetrie que nous voulons appliquer, en effet:"
   ]
  },
  {
   "cell_type": "code",
   "execution_count": 167,
   "metadata": {},
   "outputs": [
    {
     "name": "stdout",
     "output_type": "stream",
     "text": [
      "Symétrie de type -y, -x, z\n"
     ]
    }
   ],
   "source": [
    "print(\"Symétrie de type \" + Miroir.as_xyz_string())"
   ]
  },
  {
   "cell_type": "markdown",
   "metadata": {},
   "source": [
    "On observe donc que une symétrie de type plan miroir comporte une rotation mais aucune translation (vecteur nul):"
   ]
  },
  {
   "cell_type": "code",
   "execution_count": 168,
   "metadata": {},
   "outputs": [
    {
     "data": {
      "text/plain": [
       "array([[ 0., -1.,  0.],\n",
       "       [-1.,  0.,  0.],\n",
       "       [ 0.,  0.,  1.]])"
      ]
     },
     "execution_count": 168,
     "metadata": {},
     "output_type": "execute_result"
    }
   ],
   "source": [
    "Miroir.rotation_matrix"
   ]
  },
  {
   "cell_type": "code",
   "execution_count": 169,
   "metadata": {},
   "outputs": [
    {
     "data": {
      "text/plain": [
       "array([0., 0., 0.])"
      ]
     },
     "execution_count": 169,
     "metadata": {},
     "output_type": "execute_result"
    }
   ],
   "source": [
    "Miroir.translation_vector"
   ]
  },
  {
   "cell_type": "markdown",
   "metadata": {},
   "source": [
    "Si l'on applique cette symetrie à notre atome de Tl, on obtient comme nouvelle postion:"
   ]
  },
  {
   "cell_type": "code",
   "execution_count": 170,
   "metadata": {},
   "outputs": [
    {
     "data": {
      "text/plain": [
       "array([-0.33, -0.67,  0.83])"
      ]
     },
     "execution_count": 170,
     "metadata": {},
     "output_type": "execute_result"
    }
   ],
   "source": [
    "Miroir.operate((0.67,0.33,0.83))"
   ]
  },
  {
   "cell_type": "markdown",
   "metadata": {},
   "source": [
    "Pour montrer les équations cachées derrière ce résultat:"
   ]
  },
  {
   "cell_type": "code",
   "execution_count": 171,
   "metadata": {},
   "outputs": [
    {
     "name": "stdout",
     "output_type": "stream",
     "text": [
      "[-0.33 -0.67  0.83]\n"
     ]
    }
   ],
   "source": [
    "xyz=np.array([0.67,0.33,0.83])\n",
    "sol=Miroir.rotation_matrix.dot(xyz)+Miroir.translation_vector\n",
    "print(sol)"
   ]
  },
  {
   "cell_type": "markdown",
   "metadata": {},
   "source": [
    "Sur cette image, le plan miroir est en vert.\n",
    "On observe donc bien que l'atome garde la même coordonnée en z mais est deplacé selon x et y:"
   ]
  },
  {
   "cell_type": "markdown",
   "metadata": {},
   "source": [
    "![title](https://raw.githubusercontent.com/Vahouben/lmapr1492/master/miroir.png)"
   ]
  },
  {
   "cell_type": "markdown",
   "metadata": {},
   "source": [
    "## 2) Symétrie de translation"
   ]
  },
  {
   "cell_type": "markdown",
   "metadata": {},
   "source": [
    "Prennons un autre atome, Bi se trouvant à l'origine (0,0,0) et appliquons lui une translation de (-1/3,1/3,1/3) "
   ]
  },
  {
   "cell_type": "code",
   "execution_count": 172,
   "metadata": {},
   "outputs": [
    {
     "data": {
      "text/plain": [
       "PeriodicSite: Bi (0.0000, 0.0000, 0.0000) [0.0000, 0.0000, 0.0000]"
      ]
     },
     "execution_count": 172,
     "metadata": {},
     "output_type": "execute_result"
    }
   ],
   "source": [
    "sites[3]"
   ]
  },
  {
   "cell_type": "code",
   "execution_count": 174,
   "metadata": {},
   "outputs": [],
   "source": [
    "Translation=SymmOp.from_xyz_string('(x-1/3,y+1/3,z+1/3)')"
   ]
  },
  {
   "cell_type": "markdown",
   "metadata": {},
   "source": [
    "On observe donc de toute évidence que la matrice de rotation est la matrice unité étant donné que\n",
    "par symétrie de translation, l'atome ne subit aucune rotation:"
   ]
  },
  {
   "cell_type": "code",
   "execution_count": 175,
   "metadata": {},
   "outputs": [
    {
     "data": {
      "text/plain": [
       "array([[1., 0., 0.],\n",
       "       [0., 1., 0.],\n",
       "       [0., 0., 1.]])"
      ]
     },
     "execution_count": 175,
     "metadata": {},
     "output_type": "execute_result"
    }
   ],
   "source": [
    "Translation.rotation_matrix"
   ]
  },
  {
   "cell_type": "markdown",
   "metadata": {},
   "source": [
    "Et nous obtenons bien le vecteur de translation attendu:"
   ]
  },
  {
   "cell_type": "code",
   "execution_count": 176,
   "metadata": {},
   "outputs": [
    {
     "data": {
      "text/plain": [
       "array([-0.33333333,  0.33333333,  0.33333333])"
      ]
     },
     "execution_count": 176,
     "metadata": {},
     "output_type": "execute_result"
    }
   ],
   "source": [
    "Translation.translation_vector"
   ]
  },
  {
   "cell_type": "markdown",
   "metadata": {},
   "source": [
    "En apliquant l'opération de translation à notre atome, nous obtenons sa nouvelle position:"
   ]
  },
  {
   "cell_type": "code",
   "execution_count": 177,
   "metadata": {},
   "outputs": [
    {
     "data": {
      "text/plain": [
       "array([-0.33333333,  0.33333333,  0.33333333])"
      ]
     },
     "execution_count": 177,
     "metadata": {},
     "output_type": "execute_result"
    }
   ],
   "source": [
    "Translation.operate((0,0,0))"
   ]
  },
  {
   "cell_type": "markdown",
   "metadata": {},
   "source": [
    "L'atome de Bi est représenté en mauve sur cette image, on observe que la symétrie envoie notre atome en dehors de la maille conventionelle, sa postion est donc reportée dans la maille en (0.67,033,033):"
   ]
  },
  {
   "cell_type": "markdown",
   "metadata": {},
   "source": [
    "![tilte](https://raw.githubusercontent.com/Vahouben/lmapr1492/master/translation.png)"
   ]
  },
  {
   "cell_type": "markdown",
   "metadata": {},
   "source": [
    "## 3) Symetrie d'inversion"
   ]
  },
  {
   "cell_type": "markdown",
   "metadata": {},
   "source": [
    "Prenons maintenant l'atome de Bi positionné en (0.67,0.33,0.33) et apliquons lui une inversion."
   ]
  },
  {
   "cell_type": "code",
   "execution_count": 178,
   "metadata": {},
   "outputs": [
    {
     "data": {
      "text/plain": [
       "PeriodicSite: Bi (2.0775, -1.1995, 7.3938) [0.6667, 0.3333, 0.3333]"
      ]
     },
     "execution_count": 178,
     "metadata": {},
     "output_type": "execute_result"
    }
   ],
   "source": [
    "sites[4]"
   ]
  },
  {
   "cell_type": "code",
   "execution_count": 179,
   "metadata": {},
   "outputs": [],
   "source": [
    "Inversion=SymmOp.from_xyz_string('(-x,-y,-z)')"
   ]
  },
  {
   "cell_type": "markdown",
   "metadata": {},
   "source": [
    "La matrice de rotation est bien l'opposé de la matrice unité et la matrice de translation est bein le vecteur nul."
   ]
  },
  {
   "cell_type": "code",
   "execution_count": 180,
   "metadata": {},
   "outputs": [
    {
     "data": {
      "text/plain": [
       "array([[-1.,  0.,  0.],\n",
       "       [ 0., -1.,  0.],\n",
       "       [ 0.,  0., -1.]])"
      ]
     },
     "execution_count": 180,
     "metadata": {},
     "output_type": "execute_result"
    }
   ],
   "source": [
    "Inversion.rotation_matrix"
   ]
  },
  {
   "cell_type": "code",
   "execution_count": 181,
   "metadata": {},
   "outputs": [
    {
     "data": {
      "text/plain": [
       "array([0., 0., 0.])"
      ]
     },
     "execution_count": 181,
     "metadata": {},
     "output_type": "execute_result"
    }
   ],
   "source": [
    "Inversion.translation_vector"
   ]
  },
  {
   "cell_type": "markdown",
   "metadata": {},
   "source": [
    "En apliquant l'opération de translation à notre atome, nous obtenons sa nouvelle position:"
   ]
  },
  {
   "cell_type": "code",
   "execution_count": 182,
   "metadata": {},
   "outputs": [
    {
     "data": {
      "text/plain": [
       "array([-0.6667, -0.3333, -0.3333])"
      ]
     },
     "execution_count": 182,
     "metadata": {},
     "output_type": "execute_result"
    }
   ],
   "source": [
    "Inversion.operate((0.6667, 0.3333, 0.3333))"
   ]
  },
  {
   "cell_type": "markdown",
   "metadata": {},
   "source": [
    "L'image de notre atome se retrouve à nouveau en dehors de la maille conventionelle, sa postion est donc reportée en (0.33,0.67,0.67)"
   ]
  },
  {
   "cell_type": "markdown",
   "metadata": {},
   "source": [
    "![title](https://raw.githubusercontent.com/Vahouben/lmapr1492/master/inversion.png)"
   ]
  }
 ],
 "metadata": {
  "kernelspec": {
   "display_name": "Python 3",
   "language": "python",
   "name": "python3"
  },
  "language_info": {
   "codemirror_mode": {
    "name": "ipython",
    "version": 3
   },
   "file_extension": ".py",
   "mimetype": "text/x-python",
   "name": "python",
   "nbconvert_exporter": "python",
   "pygments_lexer": "ipython3",
   "version": "3.6.8"
  }
 },
 "nbformat": 4,
 "nbformat_minor": 2
}
